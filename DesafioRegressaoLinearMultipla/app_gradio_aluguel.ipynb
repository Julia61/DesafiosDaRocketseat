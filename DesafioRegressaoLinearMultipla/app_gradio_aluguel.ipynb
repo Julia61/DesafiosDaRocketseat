{
 "cells": [
  {
   "cell_type": "code",
   "execution_count": 2,
   "id": "876c0c5c",
   "metadata": {},
   "outputs": [
    {
     "name": "stderr",
     "output_type": "stream",
     "text": [
      "c:\\Users\\julia\\.virtualenvs\\DesafioRegressaoLinearMultipla-hcGtjlPy\\Lib\\site-packages\\tqdm\\auto.py:21: TqdmWarning: IProgress not found. Please update jupyter and ipywidgets. See https://ipywidgets.readthedocs.io/en/stable/user_install.html\n",
      "  from .autonotebook import tqdm as notebook_tqdm\n"
     ]
    }
   ],
   "source": [
    "import gradio as gr\n",
    "import joblib\n",
    "import pandas as pd"
   ]
  },
  {
   "cell_type": "code",
   "execution_count": 4,
   "id": "398e0936",
   "metadata": {},
   "outputs": [],
   "source": [
    "def bool_para_int(x):\n",
    "    return x.astype(int)"
   ]
  },
  {
   "cell_type": "code",
   "execution_count": 5,
   "id": "297c35d2",
   "metadata": {},
   "outputs": [],
   "source": [
    "modelo = joblib.load('./regressao_linear_multipla.pkl')"
   ]
  },
  {
   "cell_type": "code",
   "execution_count": 6,
   "id": "d1f436ab",
   "metadata": {},
   "outputs": [],
   "source": [
    "def precit(tamanho_metro_quadrado, numero_de_quartos, idade_da_casa, contem_garagem, localizacao_periferia, localizacao_suburbio):\n",
    "    predicao_individual = {\n",
    "        'tamanho_metro_quadrado' : tamanho_metro_quadrado,\n",
    "        'numero_de_quartos': numero_de_quartos,\n",
    "        'idade_da_casa':  idade_da_casa,\n",
    "        'contem_garagem': contem_garagem,\n",
    "        'localizacao_periferia': localizacao_periferia, \n",
    "        'localizacao_suburbio': localizacao_suburbio\n",
    "    }\n",
    "    precit_df = pd.DataFrame(predicao_individual, index=[0])\n",
    "    aluguel = modelo.predict(precit_df)\n",
    "    return float(aluguel[0])"
   ]
  },
  {
   "cell_type": "code",
   "execution_count": null,
   "id": "5ecc8474",
   "metadata": {},
   "outputs": [],
   "source": [
    "demo = gr.Interface(\n",
    "    fn=precit,\n",
    "    inputs=[\n",
    "        gr.Number(label='Tamanho da casa (m²)'),  \n",
    "        gr.Slider(1, 5, step=1, label='Número de Quartos'),\n",
    "        gr.Number(label='Idade da Casa'),         \n",
    "        gr.Checkbox(label=\"Têm Garagem ?\"),\n",
    "        gr.Checkbox(label=\"localizacao Periferia\"),\n",
    "        gr.Checkbox(label=\"localizacao_Subúrbio\"),\n",
    "    ],\n",
    "    outputs=gr.Number(label=\"Aluguel estimado\")\n",
    ")\n"
   ]
  },
  {
   "cell_type": "code",
   "execution_count": 10,
   "id": "1a373eef",
   "metadata": {},
   "outputs": [
    {
     "name": "stdout",
     "output_type": "stream",
     "text": [
      "* Running on local URL:  http://127.0.0.1:7861\n",
      "* To create a public link, set `share=True` in `launch()`.\n"
     ]
    },
    {
     "data": {
      "text/html": [
       "<div><iframe src=\"http://127.0.0.1:7861/\" width=\"100%\" height=\"500\" allow=\"autoplay; camera; microphone; clipboard-read; clipboard-write;\" frameborder=\"0\" allowfullscreen></iframe></div>"
      ],
      "text/plain": [
       "<IPython.core.display.HTML object>"
      ]
     },
     "metadata": {},
     "output_type": "display_data"
    },
    {
     "data": {
      "text/plain": []
     },
     "execution_count": 10,
     "metadata": {},
     "output_type": "execute_result"
    }
   ],
   "source": [
    "demo.launch()"
   ]
  }
 ],
 "metadata": {
  "kernelspec": {
   "display_name": "DesafioRegressaoLinearMultipla-hcGtjlPy",
   "language": "python",
   "name": "python3"
  },
  "language_info": {
   "codemirror_mode": {
    "name": "ipython",
    "version": 3
   },
   "file_extension": ".py",
   "mimetype": "text/x-python",
   "name": "python",
   "nbconvert_exporter": "python",
   "pygments_lexer": "ipython3",
   "version": "3.13.3"
  }
 },
 "nbformat": 4,
 "nbformat_minor": 5
}
